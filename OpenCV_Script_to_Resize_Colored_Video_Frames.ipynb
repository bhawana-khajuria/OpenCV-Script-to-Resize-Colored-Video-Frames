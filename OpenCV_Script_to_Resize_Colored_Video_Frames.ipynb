{
  "nbformat": 4,
  "nbformat_minor": 0,
  "metadata": {
    "colab": {
      "provenance": [],
      "authorship_tag": "ABX9TyPDUdUNJRBvPwnEm/xSzk/S",
      "include_colab_link": true
    },
    "kernelspec": {
      "name": "python3",
      "display_name": "Python 3"
    },
    "language_info": {
      "name": "python"
    }
  },
  "cells": [
    {
      "cell_type": "markdown",
      "metadata": {
        "id": "view-in-github",
        "colab_type": "text"
      },
      "source": [
        "<a href=\"https://colab.research.google.com/github/bhawana-khajuria/OpenCV-Script-to-Resize-Colored-Video-Frames/blob/main/OpenCV_Script_to_Resize_Colored_Video_Frames.ipynb\" target=\"_parent\"><img src=\"https://colab.research.google.com/assets/colab-badge.svg\" alt=\"Open In Colab\"/></a>"
      ]
    },
    {
      "cell_type": "code",
      "source": [
        "import cv2\n",
        "import urllib.request\n",
        "import os"
      ],
      "metadata": {
        "id": "EBwgTrgh7vQ7"
      },
      "execution_count": 7,
      "outputs": []
    },
    {
      "cell_type": "markdown",
      "source": [
        "## **Step 1: Download a sample colored video**"
      ],
      "metadata": {
        "id": "9cFbpBSD71R-"
      }
    },
    {
      "cell_type": "code",
      "source": [
        "video_url = \"https://github.com/opencv/opencv/raw/master/samples/data/vtest.avi\"\n",
        "input_video_path = \"input_video.avi\"\n",
        "\n",
        "if not os.path.exists(input_video_path):\n",
        "    print(\"Downloading sample video...\")\n",
        "    urllib.request.urlretrieve(video_url, input_video_path)\n",
        "    print(\"Video downloaded.\")\n",
        "else:\n",
        "    print(\"Video already exists.\")"
      ],
      "metadata": {
        "colab": {
          "base_uri": "https://localhost:8080/"
        },
        "id": "G7hjuTBE7ylh",
        "outputId": "954c9d31-5f02-46ac-904a-a0628ca6fe85"
      },
      "execution_count": 8,
      "outputs": [
        {
          "output_type": "stream",
          "name": "stdout",
          "text": [
            "Video already exists.\n"
          ]
        }
      ]
    },
    {
      "cell_type": "markdown",
      "source": [
        "## **Step 2: Open video for reading**"
      ],
      "metadata": {
        "id": "aRM2RWg08Efz"
      }
    },
    {
      "cell_type": "code",
      "source": [
        "cap = cv2.VideoCapture(input_video_path)\n",
        "\n",
        "if not cap.isOpened():\n",
        "    print(\"Error: Could not open the video file.\")\n",
        "    exit()"
      ],
      "metadata": {
        "id": "O1Bl1W7n8Th0"
      },
      "execution_count": 9,
      "outputs": []
    },
    {
      "cell_type": "markdown",
      "source": [
        "## **Step 3: Get original video properties**"
      ],
      "metadata": {
        "id": "ewJsPfLX8hRF"
      }
    },
    {
      "cell_type": "code",
      "source": [
        "original_width = int(cap.get(cv2.CAP_PROP_FRAME_WIDTH))\n",
        "original_height = int(cap.get(cv2.CAP_PROP_FRAME_HEIGHT))\n",
        "fps = cap.get(cv2.CAP_PROP_FPS)\n",
        "fourcc = cv2.VideoWriter_fourcc(*'XVID')\n",
        "\n",
        "# New dimensions: 50% of original\n",
        "new_width = original_width // 2\n",
        "new_height = original_height // 2"
      ],
      "metadata": {
        "id": "5ViqB0Xm8k-M"
      },
      "execution_count": 10,
      "outputs": []
    },
    {
      "cell_type": "markdown",
      "source": [
        "## **Step 4: Prepare video writer**"
      ],
      "metadata": {
        "id": "kOgQUTzp8pMh"
      }
    },
    {
      "cell_type": "code",
      "source": [
        "resized_output_path = \"resized_colored_video.avi\"\n",
        "out = cv2.VideoWriter(resized_output_path, fourcc, fps, (new_width, new_height))\n",
        "\n",
        "print(\"Resizing video to 50%...\")"
      ],
      "metadata": {
        "colab": {
          "base_uri": "https://localhost:8080/"
        },
        "id": "c85hWXe98wVT",
        "outputId": "f8d5643a-ecdf-4ef1-aff6-30d284299e8f"
      },
      "execution_count": 11,
      "outputs": [
        {
          "output_type": "stream",
          "name": "stdout",
          "text": [
            "Resizing video to 50%...\n"
          ]
        }
      ]
    },
    {
      "cell_type": "code",
      "execution_count": 13,
      "metadata": {
        "colab": {
          "base_uri": "https://localhost:8080/"
        },
        "id": "sWDuS05F7PVZ",
        "outputId": "81b9f4a7-f854-4033-9aea-ee0ed3bc81f2"
      },
      "outputs": [
        {
          "output_type": "stream",
          "name": "stdout",
          "text": [
            "Resized colored video saved as: resized_colored_video.avi\n"
          ]
        }
      ],
      "source": [
        "# Step 5: Process and write each frame\n",
        "while True:\n",
        "    ret, frame = cap.read()\n",
        "    if not ret:\n",
        "        break\n",
        "\n",
        "    # Resize to 50%\n",
        "    resized_frame = cv2.resize(frame, (new_width, new_height), interpolation=cv2.INTER_AREA)\n",
        "\n",
        "    # Write the resized frame\n",
        "    out.write(resized_frame)\n",
        "\n",
        "cap.release()\n",
        "out.release()\n",
        "\n",
        "print(f\"Resized colored video saved as: {resized_output_path}\")\n"
      ]
    }
  ]
}